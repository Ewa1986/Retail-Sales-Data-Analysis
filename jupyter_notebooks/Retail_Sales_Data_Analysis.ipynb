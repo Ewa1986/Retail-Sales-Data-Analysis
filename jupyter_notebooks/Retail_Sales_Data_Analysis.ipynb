{
  "cells": [
    {
      "cell_type": "markdown",
      "metadata": {
        "id": "0aStgWSO0E0E"
      },
      "source": [
        "# **(RETAIL SALES DATA ANALYSIS)**"
      ]
    },
    {
      "cell_type": "markdown",
      "metadata": {
        "id": "1eLEkw5O0ECa"
      },
      "source": [
        "## Objectives\n",
        "\n",
        "1. Descriptive \n",
        "\n",
        "## Inputs\n",
        "\n",
        "Historical sales data for 45 stores located in different regions - each store contains a number of departments. The    \n",
        "Data from the Excel sheets (Stores, Features, Sales) downloaded from https://www.kaggle.com/datasets/manjeetsingh/retaildataset/data . \n",
        "\n",
        "## Outputs\n",
        "\n",
        "* Write here which files, code or artefacts you generate by the end of the notebook \n",
        "\n",
        "## Additional Comments\n",
        "\n",
        "* If you have any additional comments that don't fit in the previous bullets, please state them here. \n",
        "\n"
      ]
    },
    {
      "cell_type": "markdown",
      "metadata": {},
      "source": []
    },
    {
      "cell_type": "markdown",
      "metadata": {
        "id": "9uWZXH9LwoQg"
      },
      "source": [
        "---"
      ]
    },
    {
      "cell_type": "markdown",
      "metadata": {
        "id": "cqP-UeN-z3i2"
      },
      "source": [
        "# Change working directory"
      ]
    },
    {
      "cell_type": "markdown",
      "metadata": {},
      "source": [
        "* We are assuming you will store the notebooks in a subfolder, therefore when running the notebook in the editor, you will need to change the working directory"
      ]
    },
    {
      "cell_type": "markdown",
      "metadata": {
        "id": "aOGIGS-uz3i2"
      },
      "source": [
        "We need to change the working directory from its current folder to its parent folder\n",
        "* We access the current directory with os.getcwd()"
      ]
    },
    {
      "cell_type": "code",
      "execution_count": 6,
      "metadata": {
        "id": "wZfF_j-Bz3i4",
        "outputId": "66943449-1436-4c3d-85c7-b85f9f78349b"
      },
      "outputs": [
        {
          "data": {
            "text/plain": [
              "'/workspace/Retail-Sales-Data-Analysis'"
            ]
          },
          "execution_count": 6,
          "metadata": {},
          "output_type": "execute_result"
        }
      ],
      "source": [
        "import os\n",
        "current_dir = os.getcwd()\n",
        "current_dir"
      ]
    },
    {
      "cell_type": "markdown",
      "metadata": {
        "id": "9MWW8E7lz3i7"
      },
      "source": [
        "We want to make the parent of the current directory the new current directory\n",
        "* os.path.dirname() gets the parent directory\n",
        "* os.chir() defines the new current directory"
      ]
    },
    {
      "cell_type": "code",
      "execution_count": 24,
      "metadata": {
        "id": "TwHsQRWjz3i9",
        "outputId": "86849db3-cd2f-4cc5-ebb8-2d0caafa1a2c"
      },
      "outputs": [
        {
          "name": "stdout",
          "output_type": "stream",
          "text": [
            "Retail_Sales\n"
          ]
        }
      ],
      "source": [
        "os.chdir(os.path.dirname(current_dir))\n",
        "print(\"Retail_Sales\")"
      ]
    },
    {
      "cell_type": "markdown",
      "metadata": {
        "id": "M_xPk_Ijz3i-"
      },
      "source": [
        "Confirm the new current directory"
      ]
    },
    {
      "cell_type": "code",
      "execution_count": 25,
      "metadata": {
        "id": "vz3S-_kjz3jA",
        "outputId": "00b79ae4-75d0-4a96-d193-ac9ef9847ea2"
      },
      "outputs": [
        {
          "data": {
            "text/plain": [
              "'/'"
            ]
          },
          "execution_count": 25,
          "metadata": {},
          "output_type": "execute_result"
        }
      ],
      "source": [
        "current_dir = os.getcwd()\n",
        "current_dir"
      ]
    },
    {
      "cell_type": "markdown",
      "metadata": {
        "id": "-mavJ8DibrcQ"
      },
      "source": [
        "ETL PIPELINE\n"
      ]
    },
    {
      "cell_type": "markdown",
      "metadata": {},
      "source": [
        "# Extract: Load data from the Excel sheets:\n",
        "\n",
        "stores:\n",
        "features:\n",
        "sales:"
      ]
    },
    {
      "cell_type": "code",
      "execution_count": 136,
      "metadata": {},
      "outputs": [],
      "source": [
        "import pandas as pd\n",
        "import numpy as np\n",
        "from scipy import stats\n"
      ]
    },
    {
      "cell_type": "code",
      "execution_count": 137,
      "metadata": {},
      "outputs": [],
      "source": [
        "# Load the CSV files into a Data Frame\n",
        "df_features = pd.read_csv(\"/workspace/Retail-Sales-Data-Analysis/jupyter_notebooks/Features_data_set.csv\")\n",
        "df_sales = pd.read_csv(\"/workspace/Retail-Sales-Data-Analysis/jupyter_notebooks/sales_data_set.csv\")\n",
        "df_stores = pd.read_csv(\"/workspace/Retail-Sales-Data-Analysis/jupyter_notebooks/stores_data_set.csv\")\n",
        "\n"
      ]
    },
    {
      "cell_type": "markdown",
      "metadata": {
        "id": "ZY3l0-AxO93d"
      },
      "source": [
        "---"
      ]
    },
    {
      "cell_type": "markdown",
      "metadata": {
        "id": "uFQo3ycuO-v6"
      },
      "source": [
        "# Transform: Data Cleaning "
      ]
    },
    {
      "cell_type": "markdown",
      "metadata": {},
      "source": [
        "Section 2 content"
      ]
    },
    {
      "cell_type": "code",
      "execution_count": 138,
      "metadata": {},
      "outputs": [],
      "source": [
        "# Remove duplicates rows if any\n",
        "df_features = df_features.drop_duplicates()\n",
        "df_sales = df_sales.drop_duplicates()\n",
        "df_stores = df_stores.drop_duplicates()"
      ]
    },
    {
      "cell_type": "code",
      "execution_count": 139,
      "metadata": {},
      "outputs": [
        {
          "data": {
            "text/plain": [
              "Store    0\n",
              "Type     0\n",
              "Size     0\n",
              "dtype: int64"
            ]
          },
          "execution_count": 139,
          "metadata": {},
          "output_type": "execute_result"
        }
      ],
      "source": [
        "# Handle missing values - df_stores\n",
        "\n",
        "df_stores.isnull().sum()\n"
      ]
    },
    {
      "cell_type": "code",
      "execution_count": 140,
      "metadata": {},
      "outputs": [
        {
          "data": {
            "text/plain": [
              "Store           0\n",
              "Dept            0\n",
              "Date            0\n",
              "Weekly_Sales    0\n",
              "IsHoliday       0\n",
              "dtype: int64"
            ]
          },
          "execution_count": 140,
          "metadata": {},
          "output_type": "execute_result"
        }
      ],
      "source": [
        "# Handle missing values - df_sales\n",
        "\n",
        "df_sales.isnull().sum()"
      ]
    },
    {
      "cell_type": "code",
      "execution_count": 141,
      "metadata": {},
      "outputs": [
        {
          "data": {
            "text/plain": [
              "Store              0\n",
              "Date               0\n",
              "Temperature        0\n",
              "Fuel_Price         0\n",
              "MarkDown1       4158\n",
              "MarkDown2       5269\n",
              "MarkDown3       4577\n",
              "MarkDown4       4726\n",
              "MarkDown5       4140\n",
              "CPI              585\n",
              "Unemployment     585\n",
              "IsHoliday          0\n",
              "dtype: int64"
            ]
          },
          "execution_count": 141,
          "metadata": {},
          "output_type": "execute_result"
        }
      ],
      "source": [
        "# Handle missing values - df_features\n",
        "\n",
        "df_features.isnull().sum()"
      ]
    },
    {
      "cell_type": "code",
      "execution_count": 142,
      "metadata": {},
      "outputs": [],
      "source": [
        "# When handling missing values there are two options: \n",
        "# Dropping rows with .dropna() or Filling missing values with appropriate strategies. \n",
        "# In a given dataset removing or filling missing values wasn't necessery. "
      ]
    },
    {
      "cell_type": "code",
      "execution_count": 175,
      "metadata": {},
      "outputs": [
        {
          "name": "stdout",
          "output_type": "stream",
          "text": [
            "Store     int64\n",
            "Type     object\n",
            "Size      int64\n",
            "dtype: object\n"
          ]
        }
      ],
      "source": [
        "# Confirm data types are correct - df_stores\n",
        "\n",
        "print(df_stores.dtypes)\n"
      ]
    },
    {
      "cell_type": "code",
      "execution_count": 182,
      "metadata": {},
      "outputs": [
        {
          "name": "stdout",
          "output_type": "stream",
          "text": [
            "Store                    int64\n",
            "Dept                     int64\n",
            "Date            datetime64[ns]\n",
            "Weekly_Sales           float64\n",
            "IsHoliday                 bool\n",
            "dtype: object\n"
          ]
        }
      ],
      "source": [
        "# Confirm data types are correct - df_sales\n",
        "\n",
        "print(df_sales.dtypes)"
      ]
    },
    {
      "cell_type": "code",
      "execution_count": 188,
      "metadata": {},
      "outputs": [
        {
          "name": "stdout",
          "output_type": "stream",
          "text": [
            "Store                    int64\n",
            "Date            datetime64[ns]\n",
            "Temperature            float64\n",
            "Fuel_Price             float64\n",
            "MarkDown1              float64\n",
            "MarkDown2              float64\n",
            "MarkDown3              float64\n",
            "MarkDown4              float64\n",
            "MarkDown5              float64\n",
            "CPI                    float64\n",
            "Unemployment           float64\n",
            "IsHoliday                 bool\n",
            "dtype: object\n"
          ]
        }
      ],
      "source": [
        "# Confirm data types are correct - df_features\n",
        "\n",
        "print(df_features.dtypes)"
      ]
    },
    {
      "cell_type": "code",
      "execution_count": 189,
      "metadata": {},
      "outputs": [],
      "source": [
        "# Merging df_sales with df_features for comprehensive analysis\n",
        "\n",
        "df_sales_features = pd.merge(df_sales, df_features, on=['Store', 'Date'], how='inner')"
      ]
    },
    {
      "cell_type": "markdown",
      "metadata": {},
      "source": []
    },
    {
      "cell_type": "code",
      "execution_count": 190,
      "metadata": {},
      "outputs": [],
      "source": [
        "# Remove outliers from df_sales_features\n",
        "\n",
        "z_scores = np.abs(stats.zscore(df_sales_features.select_dtypes(include=[np.number])))\n",
        "df_sales_features = df_sales_features[(z_scores < 3).all(axis=1)]"
      ]
    },
    {
      "cell_type": "code",
      "execution_count": 191,
      "metadata": {},
      "outputs": [],
      "source": [
        "# Create a new feature: Diffrence between holiday and non-holiday week sales\n",
        "df_sales_features['Sales_Diff'] = df_sales_features.groupby(['Store', 'Dept'])['Weekly_Sales'].diff()"
      ]
    },
    {
      "cell_type": "code",
      "execution_count": 192,
      "metadata": {},
      "outputs": [
        {
          "name": "stdout",
          "output_type": "stream",
          "text": [
            "<class 'pandas.core.frame.DataFrame'>\n",
            "Int64Index: 0 entries\n",
            "Data columns (total 16 columns):\n",
            " #   Column        Non-Null Count  Dtype         \n",
            "---  ------        --------------  -----         \n",
            " 0   Store         0 non-null      int64         \n",
            " 1   Dept          0 non-null      int64         \n",
            " 2   Date          0 non-null      datetime64[ns]\n",
            " 3   Weekly_Sales  0 non-null      float64       \n",
            " 4   IsHoliday_x   0 non-null      bool          \n",
            " 5   Temperature   0 non-null      float64       \n",
            " 6   Fuel_Price    0 non-null      float64       \n",
            " 7   MarkDown1     0 non-null      float64       \n",
            " 8   MarkDown2     0 non-null      float64       \n",
            " 9   MarkDown3     0 non-null      float64       \n",
            " 10  MarkDown4     0 non-null      float64       \n",
            " 11  MarkDown5     0 non-null      float64       \n",
            " 12  CPI           0 non-null      float64       \n",
            " 13  Unemployment  0 non-null      float64       \n",
            " 14  IsHoliday_y   0 non-null      bool          \n",
            " 15  Sales_Diff    0 non-null      float64       \n",
            "dtypes: bool(2), datetime64[ns](1), float64(11), int64(2)\n",
            "memory usage: 0.0 bytes\n",
            "None\n"
          ]
        }
      ],
      "source": [
        "# Display a summary after cleaning \n",
        "print(df_sales_features.info())"
      ]
    },
    {
      "cell_type": "markdown",
      "metadata": {},
      "source": [
        "---"
      ]
    },
    {
      "cell_type": "markdown",
      "metadata": {},
      "source": []
    },
    {
      "cell_type": "markdown",
      "metadata": {},
      "source": [
        "---"
      ]
    }
  ],
  "metadata": {
    "accelerator": "GPU",
    "colab": {
      "name": "Data Practitioner Jupyter Notebook.ipynb",
      "provenance": [],
      "toc_visible": true
    },
    "kernelspec": {
      "display_name": "Python 3",
      "language": "python",
      "name": "python3"
    },
    "language_info": {
      "codemirror_mode": {
        "name": "ipython",
        "version": 3
      },
      "file_extension": ".py",
      "mimetype": "text/x-python",
      "name": "python",
      "nbconvert_exporter": "python",
      "pygments_lexer": "ipython3",
      "version": "3.9.20"
    },
    "orig_nbformat": 2
  },
  "nbformat": 4,
  "nbformat_minor": 2
}
